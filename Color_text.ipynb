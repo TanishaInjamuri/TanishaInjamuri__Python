{
  "nbformat": 4,
  "nbformat_minor": 0,
  "metadata": {
    "colab": {
      "provenance": [],
      "authorship_tag": "ABX9TyNuLdmMOVT69+ECPY1bb5u6",
      "include_colab_link": true
    },
    "kernelspec": {
      "name": "python3",
      "display_name": "Python 3"
    },
    "language_info": {
      "name": "python"
    }
  },
  "cells": [
    {
      "cell_type": "markdown",
      "metadata": {
        "id": "view-in-github",
        "colab_type": "text"
      },
      "source": [
        "<a href=\"https://colab.research.google.com/github/TanishaInjamuri/TanishaInjamuri__Python/blob/main/Color_text.ipynb\" target=\"_parent\"><img src=\"https://colab.research.google.com/assets/colab-badge.svg\" alt=\"Open In Colab\"/></a>"
      ]
    },
    {
      "cell_type": "code",
      "execution_count": 1,
      "metadata": {
        "colab": {
          "base_uri": "https://localhost:8080/"
        },
        "id": "AXxkdrSsN574",
        "outputId": "286f8c83-1df3-4d83-ac76-90d13457ffd5"
      },
      "outputs": [
        {
          "output_type": "stream",
          "name": "stdout",
          "text": [
            "Collecting colorama\n",
            "  Downloading colorama-0.4.6-py2.py3-none-any.whl.metadata (17 kB)\n",
            "Downloading colorama-0.4.6-py2.py3-none-any.whl (25 kB)\n",
            "Installing collected packages: colorama\n",
            "Successfully installed colorama-0.4.6\n"
          ]
        }
      ],
      "source": [
        "!pip install colorama"
      ]
    },
    {
      "cell_type": "code",
      "source": [
        "from colorama import Fore\n",
        "print(Fore.RED + \"hello world\")\n",
        "print(Fore.BLUE + \"hello world\")\n",
        "print(Fore.GREEN + \"hello world\")\n",
        "print(Fore.YELLOW + \"CLCODING.COM\")\n",
        "print(Fore.CYAN + \"THANK YOU\")"
      ],
      "metadata": {
        "colab": {
          "base_uri": "https://localhost:8080/"
        },
        "id": "2NgDoXmsOOmK",
        "outputId": "555c31fa-c8c5-40af-dd77-0a6e1928d831"
      },
      "execution_count": 2,
      "outputs": [
        {
          "output_type": "stream",
          "name": "stdout",
          "text": [
            "\u001b[31mhello world\n",
            "\u001b[34mhello world\n",
            "\u001b[32mhello world\n",
            "\u001b[33mCLCODING.COM\n",
            "\u001b[36mTHANK YOU\n"
          ]
        }
      ]
    }
  ]
}