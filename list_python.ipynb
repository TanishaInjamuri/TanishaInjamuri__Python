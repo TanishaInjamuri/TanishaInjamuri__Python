{
  "nbformat": 4,
  "nbformat_minor": 0,
  "metadata": {
    "colab": {
      "provenance": [],
      "authorship_tag": "ABX9TyNsD+Py3Q+HDWBVM/j6Vvru",
      "include_colab_link": true
    },
    "kernelspec": {
      "name": "python3",
      "display_name": "Python 3"
    },
    "language_info": {
      "name": "python"
    }
  },
  "cells": [
    {
      "cell_type": "markdown",
      "metadata": {
        "id": "view-in-github",
        "colab_type": "text"
      },
      "source": [
        "<a href=\"https://colab.research.google.com/github/TanishaInjamuri/TanishaInjamuri__Python/blob/main/list_python.ipynb\" target=\"_parent\"><img src=\"https://colab.research.google.com/assets/colab-badge.svg\" alt=\"Open In Colab\"/></a>"
      ]
    },
    {
      "cell_type": "code",
      "execution_count": 1,
      "metadata": {
        "colab": {
          "base_uri": "https://localhost:8080/"
        },
        "id": "OJjNGUx6h9Ot",
        "outputId": "7f9cfd15-ab9c-49ea-ae38-8c3a74aad939"
      },
      "outputs": [
        {
          "output_type": "stream",
          "name": "stdout",
          "text": [
            "a is given in the list\n",
            "b is given in the list\n"
          ]
        }
      ],
      "source": [
        "a=10\n",
        "b=20\n",
        "list=[10,20,30,40,50]\n",
        "if(a in list):\n",
        "  print('a is given in the list')\n",
        "else:\n",
        "  print('a is not given in the list')\n",
        "if(b not in list):\n",
        "  print('b is not given in the list')\n",
        "else:\n",
        "  print('b is given in the list')"
      ]
    },
    {
      "cell_type": "code",
      "source": [
        "a=\"tanu\"\n",
        "list=[\"tanu\",24,24.5,\"test\"]\n",
        "if(a in list):\n",
        "  print(\"a is given\")\n",
        "else:\n",
        "  print(\"a is not given\")"
      ],
      "metadata": {
        "colab": {
          "base_uri": "https://localhost:8080/"
        },
        "id": "sZK0bZaniE9t",
        "outputId": "4dabbdc1-1ef1-4782-bb97-3ae308e849e1"
      },
      "execution_count": 2,
      "outputs": [
        {
          "output_type": "stream",
          "name": "stdout",
          "text": [
            "a is given\n"
          ]
        }
      ]
    },
    {
      "cell_type": "code",
      "source": [
        "L1=[\"tanu\",24,24.5,\"test\"]\n",
        "print(L1[-1][::-1])"
      ],
      "metadata": {
        "colab": {
          "base_uri": "https://localhost:8080/"
        },
        "id": "PzWJJzaPiWaH",
        "outputId": "6fa5fe84-2d06-4ef7-8e2e-b889c5539d65"
      },
      "execution_count": 3,
      "outputs": [
        {
          "output_type": "stream",
          "name": "stdout",
          "text": [
            "tset\n"
          ]
        }
      ]
    },
    {
      "cell_type": "code",
      "source": [
        "L1=[\"tanu\",24,24.5,\"test\"]\n",
        "print(L1[::-1])"
      ],
      "metadata": {
        "colab": {
          "base_uri": "https://localhost:8080/"
        },
        "id": "hSQa1m9Jie3N",
        "outputId": "5eef8324-a71b-44d2-c33b-79391e46efda"
      },
      "execution_count": 4,
      "outputs": [
        {
          "output_type": "stream",
          "name": "stdout",
          "text": [
            "['test', 24.5, 24, 'tanu']\n"
          ]
        }
      ]
    }
  ]
}