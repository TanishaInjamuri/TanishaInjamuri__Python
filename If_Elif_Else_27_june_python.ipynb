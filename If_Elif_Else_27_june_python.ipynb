{
  "nbformat": 4,
  "nbformat_minor": 0,
  "metadata": {
    "colab": {
      "provenance": [],
      "authorship_tag": "ABX9TyObZ9i2uqHSvimOZOEXH1Yv",
      "include_colab_link": true
    },
    "kernelspec": {
      "name": "python3",
      "display_name": "Python 3"
    },
    "language_info": {
      "name": "python"
    }
  },
  "cells": [
    {
      "cell_type": "markdown",
      "metadata": {
        "id": "view-in-github",
        "colab_type": "text"
      },
      "source": [
        "<a href=\"https://colab.research.google.com/github/TanishaInjamuri/TanishaInjamuri__Python/blob/main/If_Elif_Else_27_june_python.ipynb\" target=\"_parent\"><img src=\"https://colab.research.google.com/assets/colab-badge.svg\" alt=\"Open In Colab\"/></a>"
      ]
    },
    {
      "cell_type": "code",
      "execution_count": 1,
      "metadata": {
        "colab": {
          "base_uri": "https://localhost:8080/"
        },
        "id": "J4aStbyRi4qO",
        "outputId": "63d25411-b64e-49a3-886d-2430e9241135"
      },
      "outputs": [
        {
          "output_type": "stream",
          "name": "stdout",
          "text": [
            "Enter age: 15\n",
            "not eligible for job\n"
          ]
        }
      ],
      "source": [
        "age=int(input(\"Enter age: \"));\n",
        "if(16<=age<=18):\n",
        " print(\"eligible for job\")\n",
        "elif(18<=age>=65):\n",
        " print(\" eligible work from home job \")\n",
        "else:\n",
        " print(\"not eligible for job\");"
      ]
    },
    {
      "cell_type": "code",
      "source": [
        "a=5;\n",
        "b=10;\n",
        "print(a) if(a>b) else print(b) if(b>a) else print(\"=\")"
      ],
      "metadata": {
        "colab": {
          "base_uri": "https://localhost:8080/"
        },
        "id": "j9-JEmzujbrH",
        "outputId": "ad0f5981-7fbc-447e-c966-7d7ff37ca250"
      },
      "execution_count": 2,
      "outputs": [
        {
          "output_type": "stream",
          "name": "stdout",
          "text": [
            "10\n"
          ]
        }
      ]
    },
    {
      "cell_type": "code",
      "source": [
        "age=20;\n",
        "\n",
        "print(\"eligible for part time job\")if(age>=16 and age<18) else print(\"eligible for full time job\") if(age>=18 and age<65) else print(\"not eligible\")\n",
        ""
      ],
      "metadata": {
        "colab": {
          "base_uri": "https://localhost:8080/"
        },
        "id": "nVtrCUkPj12x",
        "outputId": "ab564962-6bc3-402d-b920-92a9eb411277"
      },
      "execution_count": 4,
      "outputs": [
        {
          "output_type": "stream",
          "name": "stdout",
          "text": [
            "eligible for full time job\n"
          ]
        }
      ]
    }
  ]
}