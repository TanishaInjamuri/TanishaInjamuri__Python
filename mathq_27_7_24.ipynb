{
  "nbformat": 4,
  "nbformat_minor": 0,
  "metadata": {
    "colab": {
      "provenance": [],
      "authorship_tag": "ABX9TyPNdarQrN/3klaTMKOLwuGs",
      "include_colab_link": true
    },
    "kernelspec": {
      "name": "python3",
      "display_name": "Python 3"
    },
    "language_info": {
      "name": "python"
    }
  },
  "cells": [
    {
      "cell_type": "markdown",
      "metadata": {
        "id": "view-in-github",
        "colab_type": "text"
      },
      "source": [
        "<a href=\"https://colab.research.google.com/github/TanishaInjamuri/TanishaInjamuri__Python/blob/main/mathq_27_7_24.ipynb\" target=\"_parent\"><img src=\"https://colab.research.google.com/assets/colab-badge.svg\" alt=\"Open In Colab\"/></a>"
      ]
    },
    {
      "cell_type": "code",
      "execution_count": null,
      "metadata": {
        "colab": {
          "base_uri": "https://localhost:8080/"
        },
        "id": "jT-buk7T9UfA",
        "outputId": "dc125d31-7305-4547-9f5a-57aacca663ae"
      },
      "outputs": [
        {
          "output_type": "stream",
          "name": "stdout",
          "text": [
            "Enter the value a:4\n",
            "Enter the value b:6\n",
            "Enter the value c:7\n",
            "(-0.7499999999999999+1.0897247358851685j)\n",
            "(-0.7500000000000001-1.0897247358851685j)\n"
          ]
        }
      ],
      "source": [
        "import cmath\n",
        "a=int(input(\"Enter the value a:\"));\n",
        "b=int(input(\"Enter the value b:\"));\n",
        "c=int(input(\"Enter the value c:\"));\n",
        "d=(-b+(b**2-4*a*c)**0.5)/(2*a);\n",
        "print(d);\n",
        "e=(-b-(b**2-4*a*c)**0.5)/(2*a);\n",
        "print(e);"
      ]
    },
    {
      "cell_type": "code",
      "source": [
        "import cmath\n",
        "\n",
        "a=1\n",
        "b=5\n",
        "c=6\n",
        "\n",
        "d=(b**2)-(4*a*c)\n",
        "\n",
        "sol1=(-b-cmath.sqrt(d))/(2*a)\n",
        "sol2=(-b-cmath.sqrt(d))/(2*a)\n",
        "print('The solution are{0}and{1}'.format(sol1,sol2))"
      ],
      "metadata": {
        "colab": {
          "base_uri": "https://localhost:8080/"
        },
        "id": "dMNmvVNAHm5o",
        "outputId": "f3f9f4cf-f000-49d4-d09f-cecad9bf53e3"
      },
      "execution_count": null,
      "outputs": [
        {
          "output_type": "stream",
          "name": "stdout",
          "text": [
            "The solution are(-3+0j)and(-3+0j)\n"
          ]
        }
      ]
    },
    {
      "cell_type": "code",
      "source": [
        "import random\n",
        "print(random.randint(0,9))"
      ],
      "metadata": {
        "colab": {
          "base_uri": "https://localhost:8080/"
        },
        "id": "UKFrQiaGLcAR",
        "outputId": "d32ed35a-9f5a-42a5-b42f-0aa7b0526d90"
      },
      "execution_count": null,
      "outputs": [
        {
          "output_type": "stream",
          "name": "stdout",
          "text": [
            "6\n"
          ]
        }
      ]
    },
    {
      "cell_type": "code",
      "source": [
        "#program to display calendar of the given month and year\n",
        "\n",
        "#importing calendar module\n",
        "import calendar\n",
        "\n",
        "yy=2005 #year\n",
        "mm=6 #month\n",
        "\n",
        "#display the calendar\n",
        "print(calendar.month(yy,mm))"
      ],
      "metadata": {
        "colab": {
          "base_uri": "https://localhost:8080/"
        },
        "id": "3Uxk7lmFLr5O",
        "outputId": "fb38283e-a3d0-41cd-ac4d-4ecab3dd5138"
      },
      "execution_count": null,
      "outputs": [
        {
          "output_type": "stream",
          "name": "stdout",
          "text": [
            "     June 2005\n",
            "Mo Tu We Th Fr Sa Su\n",
            "       1  2  3  4  5\n",
            " 6  7  8  9 10 11 12\n",
            "13 14 15 16 17 18 19\n",
            "20 21 22 23 24 25 26\n",
            "27 28 29 30\n",
            "\n"
          ]
        }
      ]
    },
    {
      "cell_type": "code",
      "source": [
        "import cmath\n",
        "\n",
        "a=5\n",
        "b=8\n",
        "c=9\n",
        "\n",
        "d=(b**2)-(4*a*c)\n",
        "\n",
        "sol1=(-b-cmath.sqrt(d))/(2*a)\n",
        "sol2=(-b-cmath.sqrt(d))/(2*a)\n",
        "print('The solution are{0}and{1}'.format(sol1,sol2))"
      ],
      "metadata": {
        "colab": {
          "base_uri": "https://localhost:8080/"
        },
        "id": "gECkjt8cLwZF",
        "outputId": "013f2d7d-ed87-4c6c-bcd9-c0b4ba8e4941"
      },
      "execution_count": null,
      "outputs": [
        {
          "output_type": "stream",
          "name": "stdout",
          "text": [
            "The solution are(-0.8-1.0770329614269007j)and(-0.8-1.0770329614269007j)\n"
          ]
        }
      ]
    }
  ]
}