{
  "nbformat": 4,
  "nbformat_minor": 0,
  "metadata": {
    "colab": {
      "provenance": [],
      "authorship_tag": "ABX9TyOzow126EAsX4t18pR1SWLo",
      "include_colab_link": true
    },
    "kernelspec": {
      "name": "python3",
      "display_name": "Python 3"
    },
    "language_info": {
      "name": "python"
    }
  },
  "cells": [
    {
      "cell_type": "markdown",
      "metadata": {
        "id": "view-in-github",
        "colab_type": "text"
      },
      "source": [
        "<a href=\"https://colab.research.google.com/github/TanishaInjamuri/TanishaInjamuri__Python/blob/main/control_statement_and_function_4_07_24.ipynb\" target=\"_parent\"><img src=\"https://colab.research.google.com/assets/colab-badge.svg\" alt=\"Open In Colab\"/></a>"
      ]
    },
    {
      "cell_type": "code",
      "execution_count": 1,
      "metadata": {
        "colab": {
          "base_uri": "https://localhost:8080/"
        },
        "id": "oOVkf7Y6XEzI",
        "outputId": "379072cc-15b6-4b73-cbe1-38c536ab2785"
      },
      "outputs": [
        {
          "output_type": "stream",
          "name": "stdout",
          "text": [
            "1\n",
            "22\n",
            "333\n",
            "4444\n",
            "55555\n",
            "666666\n",
            "7777777\n",
            "88888888\n",
            "999999999\n"
          ]
        }
      ],
      "source": [
        "p=1\n",
        "while p<10:\n",
        "  q=1\n",
        "  while q<=p:\n",
        "    print(p,end=\"\")\n",
        "    q+=1\n",
        "  p+=1\n",
        "  print(\"\")"
      ]
    },
    {
      "cell_type": "code",
      "source": [
        "for num in range(10):\n",
        "  if num%2!=0:\n",
        "    print(\"skip\");\n",
        "    continue\n",
        "  print(num);"
      ],
      "metadata": {
        "colab": {
          "base_uri": "https://localhost:8080/"
        },
        "id": "AFTUn5tPXsds",
        "outputId": "9f6c63ca-a617-4233-b497-df8d240e9c4b"
      },
      "execution_count": 2,
      "outputs": [
        {
          "output_type": "stream",
          "name": "stdout",
          "text": [
            "0\n",
            "skip\n",
            "2\n",
            "skip\n",
            "4\n",
            "skip\n",
            "6\n",
            "skip\n",
            "8\n",
            "skip\n"
          ]
        }
      ]
    },
    {
      "cell_type": "code",
      "source": [
        "for num in range(10):\n",
        "   if num>5:\n",
        "    print(\"stop processing\");\n",
        "    break\n",
        "   print(num);"
      ],
      "metadata": {
        "colab": {
          "base_uri": "https://localhost:8080/"
        },
        "id": "kePXq7LrXwhF",
        "outputId": "12ea8d8d-0612-4c2a-f022-46c3d9dbbe87"
      },
      "execution_count": 3,
      "outputs": [
        {
          "output_type": "stream",
          "name": "stdout",
          "text": [
            "0\n",
            "1\n",
            "2\n",
            "3\n",
            "4\n",
            "5\n",
            "stop processing\n"
          ]
        }
      ]
    },
    {
      "cell_type": "code",
      "source": [
        "course=input(\"which course you want to enroll:\");\n",
        "if course==\"Bscit\":\n",
        "   per=int(input(\"enter percentage obtained in 12th:\"))\n",
        "   sub=input(\"enter your subject\")\n",
        "   if sub==\"math\" and per>=50:\n",
        "    print(\"Admission successful\")\n",
        "   else:\n",
        "    print(\" Admission is not successful\")\n",
        "else:\n",
        "  print(\"enter valid course\");"
      ],
      "metadata": {
        "colab": {
          "base_uri": "https://localhost:8080/"
        },
        "id": "Yc31AnJKX0Yt",
        "outputId": "c4757b4a-17a6-437f-9264-44a36e08109e"
      },
      "execution_count": 4,
      "outputs": [
        {
          "output_type": "stream",
          "name": "stdout",
          "text": [
            "which course you want to enroll:Bscit\n",
            "enter percentage obtained in 12th:69\n",
            "enter your subjectmath\n",
            "Admission successful\n"
          ]
        }
      ]
    },
    {
      "cell_type": "code",
      "source": [
        "def Test():\n",
        "  print(\"This is 1st function\")\n",
        "Test()"
      ],
      "metadata": {
        "colab": {
          "base_uri": "https://localhost:8080/"
        },
        "id": "My7OYjLjYABx",
        "outputId": "a733b6ec-6c50-4ab5-e287-f4003faf1e0e"
      },
      "execution_count": 5,
      "outputs": [
        {
          "output_type": "stream",
          "name": "stdout",
          "text": [
            "This is 1st function\n"
          ]
        }
      ]
    },
    {
      "cell_type": "code",
      "source": [
        "def print_num(a):\n",
        " for num in range(a):\n",
        "   print(num)\n",
        "print_num(10)"
      ],
      "metadata": {
        "colab": {
          "base_uri": "https://localhost:8080/"
        },
        "id": "B-YfL4twYD9Y",
        "outputId": "e3623c1a-432c-4510-8e5e-7fd76c0c4038"
      },
      "execution_count": 7,
      "outputs": [
        {
          "output_type": "stream",
          "name": "stdout",
          "text": [
            "0\n",
            "1\n",
            "2\n",
            "3\n",
            "4\n",
            "5\n",
            "6\n",
            "7\n",
            "8\n",
            "9\n"
          ]
        }
      ]
    },
    {
      "cell_type": "code",
      "source": [
        "def admission_process():\n",
        "  course=input(\"which course you want to enroll:\");\n",
        "if course==\"Bscit\":\n",
        "   per=int(input(\"enter percentage obtained in 12th:\"))\n",
        "   sub=input(\"enter your subject\")\n",
        "   if sub==\"math\" and per>=50:\n",
        "    print(\"Admission successful\")\n",
        "   else:\n",
        "    print(\" Admission is not successful\")\n",
        "else:\n",
        "  print(\"enter valid course\");\n",
        "\n",
        "\n",
        "\n",
        "admission_process()"
      ],
      "metadata": {
        "colab": {
          "base_uri": "https://localhost:8080/"
        },
        "id": "hTs3ZfhiY98h",
        "outputId": "93fa3f70-7284-454b-cf09-033fd6c4d293"
      },
      "execution_count": 14,
      "outputs": [
        {
          "name": "stdout",
          "output_type": "stream",
          "text": [
            "enter percentage obtained in 12th:69\n",
            "enter your subjectmath\n",
            "Admission successful\n",
            "which course you want to enroll:Bscit\n"
          ]
        }
      ]
    }
  ]
}