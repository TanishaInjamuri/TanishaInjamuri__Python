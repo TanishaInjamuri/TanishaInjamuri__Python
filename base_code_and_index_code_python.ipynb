{
  "nbformat": 4,
  "nbformat_minor": 0,
  "metadata": {
    "colab": {
      "provenance": [],
      "authorship_tag": "ABX9TyMhO6zyL8aBQc0Nbh+QKz6F",
      "include_colab_link": true
    },
    "kernelspec": {
      "name": "python3",
      "display_name": "Python 3"
    },
    "language_info": {
      "name": "python"
    }
  },
  "cells": [
    {
      "cell_type": "markdown",
      "metadata": {
        "id": "view-in-github",
        "colab_type": "text"
      },
      "source": [
        "<a href=\"https://colab.research.google.com/github/TanishaInjamuri/TanishaInjamuri__Python/blob/main/base_code_and_index_code_python.ipynb\" target=\"_parent\"><img src=\"https://colab.research.google.com/assets/colab-badge.svg\" alt=\"Open In Colab\"/></a>"
      ]
    },
    {
      "cell_type": "code",
      "execution_count": 1,
      "metadata": {
        "colab": {
          "base_uri": "https://localhost:8080/"
        },
        "id": "aswR1f7JVGa9",
        "outputId": "d3d08454-d643-4749-9485-6f481318008e"
      },
      "outputs": [
        {
          "output_type": "stream",
          "name": "stdout",
          "text": [
            "no 1 5\n",
            "no 2 6\n",
            "11\n"
          ]
        }
      ],
      "source": [
        "a=int(input(\"no 1 \"))\n",
        "b=int(input(\"no 2 \"))\n",
        "print(a+b)"
      ]
    },
    {
      "cell_type": "code",
      "source": [
        "a=int(input(\"no 1 \"))\n",
        "b=int(input(\"no 2 \"))\n",
        "print(a+b)\n",
        "print(a-b)\n",
        "print(a%b)\n",
        "print(a/b)"
      ],
      "metadata": {
        "colab": {
          "base_uri": "https://localhost:8080/"
        },
        "id": "ni-gZEt-V8Jb",
        "outputId": "c79d063a-eee6-45d7-ab11-7542b2a4a06a"
      },
      "execution_count": 2,
      "outputs": [
        {
          "output_type": "stream",
          "name": "stdout",
          "text": [
            "no 1 5\n",
            "no 2 6\n",
            "11\n",
            "-1\n",
            "5\n",
            "0.8333333333333334\n"
          ]
        }
      ]
    },
    {
      "cell_type": "code",
      "source": [
        "name=\"Tanisha\"\n",
        "print(name[1])"
      ],
      "metadata": {
        "colab": {
          "base_uri": "https://localhost:8080/"
        },
        "id": "slrh4xLmWJmu",
        "outputId": "73258a58-5240-41f6-edab-aa26ea2ddb41"
      },
      "execution_count": 1,
      "outputs": [
        {
          "output_type": "stream",
          "name": "stdout",
          "text": [
            "a\n"
          ]
        }
      ]
    },
    {
      "cell_type": "code",
      "source": [
        "test=\"1000\"\n",
        "print(test[1])"
      ],
      "metadata": {
        "colab": {
          "base_uri": "https://localhost:8080/"
        },
        "id": "BedPUun-09sB",
        "outputId": "1b64587d-f3f9-413b-8c2d-6f970d033f1c"
      },
      "execution_count": 2,
      "outputs": [
        {
          "output_type": "stream",
          "name": "stdout",
          "text": [
            "0\n"
          ]
        }
      ]
    },
    {
      "cell_type": "code",
      "source": [
        "#even\n",
        "Greet=\"hello world\"\n",
        "print(Greet[0:1000])"
      ],
      "metadata": {
        "colab": {
          "base_uri": "https://localhost:8080/"
        },
        "id": "56h8Piv61CET",
        "outputId": "74410951-ef15-4b32-e853-0098c3738ddf"
      },
      "execution_count": 4,
      "outputs": [
        {
          "output_type": "stream",
          "name": "stdout",
          "text": [
            "hello world\n"
          ]
        }
      ]
    },
    {
      "cell_type": "code",
      "source": [
        "# replace the word\n",
        "Greet=\"hello world\"\n",
        "print(\"Z\"+ Greet[1:6], \"M\"+Greet[7:11])"
      ],
      "metadata": {
        "colab": {
          "base_uri": "https://localhost:8080/"
        },
        "id": "kW-_XxwV1PxK",
        "outputId": "aa30ec2e-2284-4f6d-efb6-8786c1e662cb"
      },
      "execution_count": 5,
      "outputs": [
        {
          "output_type": "stream",
          "name": "stdout",
          "text": [
            "Zello  Morld\n"
          ]
        }
      ]
    },
    {
      "cell_type": "code",
      "source": [
        "Greet=\"hello world\"\n",
        "print(\"Z\"+Greet[-10:-5],\"M\"+Greet[-4:])"
      ],
      "metadata": {
        "colab": {
          "base_uri": "https://localhost:8080/"
        },
        "id": "j5L0n8By1YSG",
        "outputId": "3a8d21ce-9cb3-470d-b9c4-754ebac1b3ab"
      },
      "execution_count": 6,
      "outputs": [
        {
          "output_type": "stream",
          "name": "stdout",
          "text": [
            "Zello  Morld\n"
          ]
        }
      ]
    },
    {
      "cell_type": "code",
      "source": [
        "#reverse\n",
        "Greet=\"hello world\"\n",
        "print(Greet[::-1])"
      ],
      "metadata": {
        "colab": {
          "base_uri": "https://localhost:8080/"
        },
        "id": "u2KUbk2r1bqY",
        "outputId": "a481e1c9-30d5-45ca-9e8f-00555339fc1a"
      },
      "execution_count": 8,
      "outputs": [
        {
          "output_type": "stream",
          "name": "stdout",
          "text": [
            "dlrow olleh\n"
          ]
        }
      ]
    },
    {
      "cell_type": "code",
      "source": [
        "a=2\n",
        "b=5\n",
        "Sol=((a*2)+(b*2)+(2*a*b))\n",
        "print(Sol)"
      ],
      "metadata": {
        "colab": {
          "base_uri": "https://localhost:8080/"
        },
        "id": "gFxDh6o51kMl",
        "outputId": "e645f27f-4524-45da-9669-620b5a1e1fec"
      },
      "execution_count": 9,
      "outputs": [
        {
          "output_type": "stream",
          "name": "stdout",
          "text": [
            "34\n"
          ]
        }
      ]
    },
    {
      "cell_type": "code",
      "source": [
        "s1=int(input(\" enter number 1 \"));\n",
        "s2=int(input(\" enter number 2 \"));\n",
        "s3=int(input(\" enter number 3 \"));\n",
        "s4=int(input(\" enter number 4 \"));\n",
        "s5=int(input(\" enter number 5 \"));\n",
        "per=(s1+s2+s3+s4+s5)/5\n",
        "print(per);"
      ],
      "metadata": {
        "colab": {
          "base_uri": "https://localhost:8080/"
        },
        "id": "FTujocgp1oHk",
        "outputId": "4dc1851f-a824-4782-e583-808e04eae278"
      },
      "execution_count": 10,
      "outputs": [
        {
          "output_type": "stream",
          "name": "stdout",
          "text": [
            " enter number 1 85\n",
            " enter number 2 69\n",
            " enter number 3 90\n",
            " enter number 4 89\n",
            " enter number 5 95\n",
            "85.6\n"
          ]
        }
      ]
    },
    {
      "cell_type": "code",
      "source": [
        "a=10\n",
        "b=2.50\n",
        "c=a+b\n",
        "print(c)"
      ],
      "metadata": {
        "colab": {
          "base_uri": "https://localhost:8080/"
        },
        "id": "R2aeSmPL14Ta",
        "outputId": "5ab2400d-b2af-4437-ae4d-28e842b6ef51"
      },
      "execution_count": 11,
      "outputs": [
        {
          "output_type": "stream",
          "name": "stdout",
          "text": [
            "12.5\n"
          ]
        }
      ]
    }
  ]
}