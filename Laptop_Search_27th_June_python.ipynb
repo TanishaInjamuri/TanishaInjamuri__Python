{
  "nbformat": 4,
  "nbformat_minor": 0,
  "metadata": {
    "colab": {
      "provenance": [],
      "authorship_tag": "ABX9TyPsD3/8ZTkOYOVF4PEq07kf",
      "include_colab_link": true
    },
    "kernelspec": {
      "name": "python3",
      "display_name": "Python 3"
    },
    "language_info": {
      "name": "python"
    }
  },
  "cells": [
    {
      "cell_type": "markdown",
      "metadata": {
        "id": "view-in-github",
        "colab_type": "text"
      },
      "source": [
        "<a href=\"https://colab.research.google.com/github/TanishaInjamuri/TanishaInjamuri__Python/blob/main/Laptop_Search_27th_June_python.ipynb\" target=\"_parent\"><img src=\"https://colab.research.google.com/assets/colab-badge.svg\" alt=\"Open In Colab\"/></a>"
      ]
    },
    {
      "cell_type": "code",
      "execution_count": 1,
      "metadata": {
        "colab": {
          "base_uri": "https://localhost:8080/"
        },
        "id": "UiUo1uqikj1e",
        "outputId": "fd8fe8b7-c924-47c0-dd4b-a07d1750682a"
      },
      "outputs": [
        {
          "output_type": "stream",
          "name": "stdout",
          "text": [
            "enter budget520000\n",
            "asus:1 lenovo:2\n",
            "enter choice2\n",
            "bought lenovo\n"
          ]
        }
      ],
      "source": [
        "budget=int(input(\"enter budget\"))\n",
        "if 25000<=budget>=75000:\n",
        "    print(\"asus:1 lenovo:2\")\n",
        "    choice=int(input(\"enter choice\"))\n",
        "    if choice == 1:\n",
        "       print(\"bought asus\")\n",
        "    elif choice == 2:\n",
        "        print(\"bought lenovo\")\n",
        "    else:\n",
        "        print(\"enter valid value!\")\n",
        "elif budget>75000 and budget<=100000:\n",
        "    print(\"HP:1 MacBook:2\")\n",
        "    choice=int(input(\"enter choice\"))\n",
        "    if choice == 1:\n",
        "        print(\"bought HP\")\n",
        "    elif choice == 2:\n",
        "        print(\"bought MacBook\")\n",
        "    else:\n",
        "        print(\"enter valid value!\")\n",
        "else:\n",
        "    print(\"no results found!\")\n",
        ""
      ]
    }
  ]
}